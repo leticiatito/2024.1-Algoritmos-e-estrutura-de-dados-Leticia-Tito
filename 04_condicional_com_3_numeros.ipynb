{
  "nbformat": 4,
  "nbformat_minor": 0,
  "metadata": {
    "colab": {
      "provenance": [],
      "authorship_tag": "ABX9TyNTu9OX94HDKTfs3+zjQ3Dj",
      "include_colab_link": true
    },
    "kernelspec": {
      "name": "python3",
      "display_name": "Python 3"
    },
    "language_info": {
      "name": "python"
    }
  },
  "cells": [
    {
      "cell_type": "markdown",
      "metadata": {
        "id": "view-in-github",
        "colab_type": "text"
      },
      "source": [
        "<a href=\"https://colab.research.google.com/github/leticiatito/2024.1-Algoritmos-e-estrutura-de-dados-Leticia-Tito/blob/main/04_condicional_com_3_numeros.ipynb\" target=\"_parent\"><img src=\"https://colab.research.google.com/assets/colab-badge.svg\" alt=\"Open In Colab\"/></a>"
      ]
    },
    {
      "cell_type": "code",
      "execution_count": 2,
      "metadata": {
        "colab": {
          "base_uri": "https://localhost:8080/"
        },
        "id": "scsvk9gOvCkd",
        "outputId": "23e4377c-58e4-42be-ca20-88dffc39abba"
      },
      "outputs": [
        {
          "output_type": "stream",
          "name": "stdout",
          "text": [
            "30\n"
          ]
        }
      ],
      "source": [
        "#Crie um código que, a partir de 3 variáveis 'a', 'b' e 'c' númericas imprima a maior delas\n",
        "a=10\n",
        "b=20\n",
        "c=30\n",
        "\n",
        "\n",
        "if a < b:\n",
        "  if b < c:\n",
        "    print(c)\n",
        "  else:\n",
        "    print(b)\n",
        "else:\n",
        "  if a < c:\n",
        "    print(c)\n",
        "  else:\n",
        "    print(a)"
      ]
    },
    {
      "cell_type": "code",
      "source": [
        "#simplificando com funções em python\n",
        "a=10\n",
        "b=20\n",
        "c=30\n",
        "d=40\n",
        "e=50\n",
        "\n",
        "print(max(a,b,c,d,e))"
      ],
      "metadata": {
        "colab": {
          "base_uri": "https://localhost:8080/"
        },
        "id": "VG28NmBpyYUI",
        "outputId": "e593ea6a-1697-4f8c-ef69-37c993e4d384"
      },
      "execution_count": 3,
      "outputs": [
        {
          "output_type": "stream",
          "name": "stdout",
          "text": [
            "50\n"
          ]
        }
      ]
    },
    {
      "cell_type": "markdown",
      "source": [],
      "metadata": {
        "id": "zf_DVJdkzUPo"
      }
    }
  ]
}