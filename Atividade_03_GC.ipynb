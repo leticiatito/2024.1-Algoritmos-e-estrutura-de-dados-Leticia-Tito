{
  "nbformat": 4,
  "nbformat_minor": 0,
  "metadata": {
    "colab": {
      "provenance": [],
      "authorship_tag": "ABX9TyPxztSnMTHwK/4ew25SPndK",
      "include_colab_link": true
    },
    "kernelspec": {
      "name": "python3",
      "display_name": "Python 3"
    },
    "language_info": {
      "name": "python"
    }
  },
  "cells": [
    {
      "cell_type": "markdown",
      "metadata": {
        "id": "view-in-github",
        "colab_type": "text"
      },
      "source": [
        "<a href=\"https://colab.research.google.com/github/leticiatito/2024.1-Algoritmos-e-estrutura-de-dados-Leticia-Tito/blob/main/Atividade_03_GC.ipynb\" target=\"_parent\"><img src=\"https://colab.research.google.com/assets/colab-badge.svg\" alt=\"Open In Colab\"/></a>"
      ]
    },
    {
      "cell_type": "markdown",
      "source": [
        "**Calculadora de IMC (índice de massa corpral)**"
      ],
      "metadata": {
        "id": "KLp6Bop2tBjf"
      }
    },
    {
      "cell_type": "code",
      "source": [
        "#calcular imc\n",
        "peso = float(input(\"digite seu peso em kg: \"))\n",
        "altura = float(input(\"digite sua altura em metros: \"))\n",
        "\n",
        "\n",
        "imc = peso / (altura*altura)\n",
        "\n",
        "\n",
        "if imc < 18.5:\n",
        "  print(\"baixo peso\")\n",
        "elif imc < 24.9:\n",
        "  print(\"peso normal\")\n",
        "elif imc < 29.9:\n",
        "  print(\"sobrepeso\")\n",
        "elif imc <= 30.0:\n",
        "  print(\"obesidade\")\n"
      ],
      "metadata": {
        "colab": {
          "base_uri": "https://localhost:8080/"
        },
        "id": "UNtc-ypotVEQ",
        "outputId": "33d62519-dd74-4798-9342-73675dcab66b"
      },
      "execution_count": null,
      "outputs": [
        {
          "output_type": "stream",
          "name": "stdout",
          "text": [
            "digite seu peso em kg: 63.0\n",
            "digite sua altura em metros: 1.68\n",
            "peso normal\n"
          ]
        }
      ]
    },
    {
      "cell_type": "markdown",
      "source": [
        "**Verificador de número par ou ímpar**"
      ],
      "metadata": {
        "id": "qE1xS2c12hZI"
      }
    },
    {
      "cell_type": "markdown",
      "source": [],
      "metadata": {
        "id": "4K0l3nR71Uch"
      }
    },
    {
      "cell_type": "code",
      "source": [
        "#verificar se o número inteiro é par ou ímpar\n",
        "número = float(input(\"digite um número inteiro: \"))\n",
        "if número / 2 == número // 2:\n",
        "  print(\"o número é par\")\n",
        "else:\n",
        "  print(\"o número é ímpar\")"
      ],
      "metadata": {
        "colab": {
          "base_uri": "https://localhost:8080/"
        },
        "id": "DSKUnDOm2xoN",
        "outputId": "54345c64-6564-4e0c-a1b3-f4226a771c57"
      },
      "execution_count": null,
      "outputs": [
        {
          "output_type": "stream",
          "name": "stdout",
          "text": [
            "digite um número inteiro: 27\n",
            "o número é ímpar\n"
          ]
        }
      ]
    },
    {
      "cell_type": "markdown",
      "source": [
        "**Conversor de temperatura**"
      ],
      "metadata": {
        "id": "JYHBfzgi75nE"
      }
    },
    {
      "cell_type": "code",
      "source": [
        "#converta a temperatura para Fahrenheit\n",
        "Celsius = float(input(\"digite a temperatura em Celsius: \"))\n",
        "Fahrenheit = Celsius * 9 / 5 + 32\n",
        "print(\"A temperatura em Fahrenheit é:\", Fahrenheit)"
      ],
      "metadata": {
        "colab": {
          "base_uri": "https://localhost:8080/"
        },
        "id": "xGlcLMIe8gmu",
        "outputId": "791f1894-1d81-40eb-946a-37be44e8f30a"
      },
      "execution_count": null,
      "outputs": [
        {
          "output_type": "stream",
          "name": "stdout",
          "text": [
            "digite a temperatura em Celsius: 28\n",
            "A temperatura em Fahrenheit é: 82.4\n"
          ]
        }
      ]
    },
    {
      "cell_type": "markdown",
      "source": [
        "**Tabuada de multiplicação**"
      ],
      "metadata": {
        "id": "q271Kxqi_n6D"
      }
    },
    {
      "cell_type": "code",
      "source": [
        "#exiba a tabuada de multiplicação\n",
        "numero = int(input(\"digite um numero: \"))\n",
        "print(\"Tabuada de multiplicação de\", numero)\n",
        "multiplicadores= [1, 2, 3, 4, 5, 6, 7, 8, 9, 10]\n",
        "for multiplicador in multiplicadores:\n",
        "  resultado = numero * multiplicador\n",
        "  print(f\"{numero} * {multiplicador} = {resultado}\")"
      ],
      "metadata": {
        "colab": {
          "base_uri": "https://localhost:8080/"
        },
        "id": "-paZZjbJ_9v1",
        "outputId": "1a6fcd6c-9e26-4f23-a222-63246ad9b071"
      },
      "execution_count": null,
      "outputs": [
        {
          "output_type": "stream",
          "name": "stdout",
          "text": [
            "digite um numero: 7\n",
            "Tabuada de multiplicação de 7\n",
            "7 * 1 = 7\n",
            "7 * 2 = 14\n",
            "7 * 3 = 21\n",
            "7 * 4 = 28\n",
            "7 * 5 = 35\n",
            "7 * 6 = 42\n",
            "7 * 7 = 49\n",
            "7 * 8 = 56\n",
            "7 * 9 = 63\n",
            "7 * 10 = 70\n"
          ]
        }
      ]
    },
    {
      "cell_type": "markdown",
      "source": [
        "**Calculo de media ponderada**"
      ],
      "metadata": {
        "id": "yipUjXeVH_s4"
      }
    },
    {
      "cell_type": "code",
      "source": [
        "#calcular media ponderada\n",
        "#float, tipagem explícita, para garantir numero fracionario\n",
        "nota1 = float(input(\"digite a primeira nota: \"))\n",
        "peso1 = float(input(\"digite o peso da primeira nota: \"))\n",
        "nota2 = float(input(\"digite a segunda nota: \"))\n",
        "peso2 = float(input(\"digite o peso da segunda nota: \"))\n",
        "nota3 = float(input(\"digite a terceira nota: \"))\n",
        "peso3 = float(input(\"digite o peso da terceira nota: \"))\n",
        "\n",
        "#calculo de media ponderada\n",
        "media = (nota1 * peso1 + nota2 * peso2 + nota3 * peso3) / (peso1 + peso2 + peso3)\n",
        "\n",
        "#impressao da media\n",
        "print(f\"A media ponderada é: {media: .2f}\")"
      ],
      "metadata": {
        "colab": {
          "base_uri": "https://localhost:8080/"
        },
        "id": "2E-_sLAqI_tw",
        "outputId": "72eff599-7a40-4202-b6e6-97dfd454f3a4"
      },
      "execution_count": null,
      "outputs": [
        {
          "output_type": "stream",
          "name": "stdout",
          "text": [
            "digite a primeira nota: 7.0\n",
            "digite o peso da primeira nota: 2\n",
            "digite a segunda nota: 8.0\n",
            "digite o peso da segunda nota: 3\n",
            "digite a terceira nota: 6.0\n",
            "digite o peso da terceira nota: 1\n",
            "A media ponderada é:  7.33\n"
          ]
        }
      ]
    },
    {
      "cell_type": "markdown",
      "source": [
        "**Verificador de ano bissexto**"
      ],
      "metadata": {
        "id": "eaxnDRg7THF0"
      }
    },
    {
      "cell_type": "code",
      "source": [
        "#verificar ano bissexto\n",
        "ano = int(input(\"digite um ano: \"))\n",
        "\n",
        "\n",
        "if (ano // 4 * 4 == ano) and (( ano // 100 * 100 != ano) or (ano // 400 * 400 == ano)):\n",
        "  print(\"O ano é bissexto\")\n",
        "else:\n",
        "  print(\"O ano não é bissexto\")"
      ],
      "metadata": {
        "colab": {
          "base_uri": "https://localhost:8080/"
        },
        "id": "5wlCb6UeTV6x",
        "outputId": "ab80e1b8-6ad0-4142-8e41-d7115038bbf7"
      },
      "execution_count": null,
      "outputs": [
        {
          "output_type": "stream",
          "name": "stdout",
          "text": [
            "digite um ano: 2024\n",
            "O ano é bissexto\n"
          ]
        }
      ]
    },
    {
      "cell_type": "markdown",
      "source": [
        "**Contador de vogais em uma string**"
      ],
      "metadata": {
        "id": "psBm0czcWdy-"
      }
    },
    {
      "cell_type": "code",
      "source": [
        "#contar vogais\n",
        "string = input(\"digite uma string: \")\n",
        "vogais = 'aeiouAEIOU'\n",
        "contador = 0\n",
        "\n",
        "\n",
        "for letra in string:\n",
        "  if letra in vogais:\n",
        "    contador += 1\n",
        "\n",
        "\n",
        "print(\"O numero de vogais na string é:\", contador)"
      ],
      "metadata": {
        "colab": {
          "base_uri": "https://localhost:8080/"
        },
        "id": "So06ol2fWrgt",
        "outputId": "6f0150e9-4d40-4431-d238-2ad0982ca2fc"
      },
      "execution_count": null,
      "outputs": [
        {
          "output_type": "stream",
          "name": "stdout",
          "text": [
            "digite uma string: hello world\n",
            "O numero de vogais na string é: 3\n"
          ]
        }
      ]
    },
    {
      "cell_type": "markdown",
      "source": [
        "**Calculadora de fatorial**"
      ],
      "metadata": {
        "id": "wiE15tvYapPL"
      }
    },
    {
      "cell_type": "code",
      "source": [
        "\n",
        "#calcular fatorial\n",
        "numero = int(input(\"digite um numero inteiro positivo: \"))\n",
        "\n",
        "\n",
        "if numero < 0:\n",
        "  print(\"erro: 0 fatorial não está definidos para numeos negativos.\")\n",
        "else:\n",
        "    resultado = 1\n",
        "    for contador in range(1, numero + 1):\n",
        "        resultado *= contador\n",
        "\n",
        "\n",
        "    print(\"O fatorial de\", numero, \"é:\", resultado)"
      ],
      "metadata": {
        "colab": {
          "base_uri": "https://localhost:8080/"
        },
        "id": "miR8TbH7a00o",
        "outputId": "d29d4a46-77e6-4bcd-e78d-6846c0743d44"
      },
      "execution_count": null,
      "outputs": [
        {
          "output_type": "stream",
          "name": "stdout",
          "text": [
            "digite um numero inteiro positivo: 2\n",
            "O fatorial de 2 é: 2\n"
          ]
        }
      ]
    },
    {
      "cell_type": "markdown",
      "source": [
        "**Soma dos numeros pares em um intervalo**"
      ],
      "metadata": {
        "id": "HWVVwj1aeYB2"
      }
    },
    {
      "cell_type": "code",
      "source": [
        "#somar pares em intervalo\n",
        "inicio = int(input(\"digite o inicio do intervalo: \"))\n",
        "fim = int(input(\"digite o fim do intervalo: \"))\n",
        "soma = 0\n",
        "\n",
        "\n",
        "if inicio % 2 != 0:\n",
        "  inicio += 1\n",
        "\n",
        "\n",
        "for numero in range(inicio, fim + 1, 2):\n",
        "    soma += numero\n",
        "\n",
        "\n",
        "print(\"A soma dos numeros pares no intervalo é:\", soma)"
      ],
      "metadata": {
        "colab": {
          "base_uri": "https://localhost:8080/"
        },
        "id": "SaON5xhMepkh",
        "outputId": "610040c4-a584-4080-8291-d60695b586f7"
      },
      "execution_count": null,
      "outputs": [
        {
          "output_type": "stream",
          "name": "stdout",
          "text": [
            "digite o inicio do intervalo: 8\n",
            "digite o fim do intervalo: 20\n",
            "A soma dos numeros pares no intervalo é: 98\n"
          ]
        }
      ]
    },
    {
      "cell_type": "markdown",
      "source": [
        "**Verifcador de numero primo**"
      ],
      "metadata": {
        "id": "fFnP8PKhkp_m"
      }
    },
    {
      "cell_type": "code",
      "source": [
        "#Verificar numero primo\n",
        "numero = int(input(\"digite um numero inteiro positivo: \"))\n",
        "\n",
        "\n",
        "if numero <= 1:\n",
        "    print(\"numero invalido, por favor, insira um numero positivo inteiro maior que 1.\")\n",
        "else:\n",
        "    primo = True\n",
        "    for i in range(2, numero):\n",
        "        if numero % i == 0:\n",
        "            primo = False\n",
        "            break\n",
        "\n",
        "\n",
        "            if primo:\n",
        "                print(numero, \"é um número primo\")\n",
        "            else:\n",
        "                print(numero, \"não é um número primo\")"
      ],
      "metadata": {
        "colab": {
          "base_uri": "https://localhost:8080/"
        },
        "id": "KAQR8Y85tEpB",
        "outputId": "701f9225-b00a-4c96-ec3f-382a109da279"
      },
      "execution_count": null,
      "outputs": [
        {
          "name": "stdout",
          "output_type": "stream",
          "text": [
            "digite um numero inteiro positivo: 8\n"
          ]
        }
      ]
    }
  ]
}