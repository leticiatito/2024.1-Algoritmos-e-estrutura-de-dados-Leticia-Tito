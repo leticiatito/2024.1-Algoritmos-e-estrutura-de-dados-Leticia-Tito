{
  "nbformat": 4,
  "nbformat_minor": 0,
  "metadata": {
    "colab": {
      "provenance": [],
      "authorship_tag": "ABX9TyO9vR4carJNVBRHrBvgvzyZ",
      "include_colab_link": true
    },
    "kernelspec": {
      "name": "python3",
      "display_name": "Python 3"
    },
    "language_info": {
      "name": "python"
    }
  },
  "cells": [
    {
      "cell_type": "markdown",
      "metadata": {
        "id": "view-in-github",
        "colab_type": "text"
      },
      "source": [
        "<a href=\"https://colab.research.google.com/github/leticiatito/2024.1-Algoritmos-e-estrutura-de-dados-Leticia-Tito/blob/main/05_repeticao_while_qualidade_da_agua.ipynb\" target=\"_parent\"><img src=\"https://colab.research.google.com/assets/colab-badge.svg\" alt=\"Open In Colab\"/></a>"
      ]
    },
    {
      "cell_type": "code",
      "execution_count": 7,
      "metadata": {
        "colab": {
          "base_uri": "https://localhost:8080/"
        },
        "id": "B4vUIQKD1YZG",
        "outputId": "3d25559d-520f-4949-c648-92c042416983"
      },
      "outputs": [
        {
          "output_type": "stream",
          "name": "stdout",
          "text": [
            "Insira o nível de cloro da água para verificar se está dentro do padrão aceito \n",
            "Digite o nível de cloro em mg/L: 5\n",
            "Atenção: o nível do cloro está acima do padrão aceitável.\n",
            "Digite o nível de cloro em mg/L: 2\n",
            "O nível do cloro está dentro dos padrões aceitáveis.\n"
          ]
        }
      ],
      "source": [
        "#Programa de controle de qualidade de agua\n",
        "print(\"Insira o nível de cloro da água para verificar se está dentro do padrão aceito \")\n",
        "\n",
        "while True: #loop infinito // infinite loop\n",
        "  nível_cloro = float(input(\"Digite o nível de cloro em mg/L: \"))\n",
        "  #verificando se o 0.2 > nível_cloro < 2\n",
        "  if nível_cloro < 0.2:\n",
        "    print(\"Atenção: O nível de cloro está abaixo do padrão aceitável\")\n",
        "  elif nível_cloro > 2.0:\n",
        "    print(\"Atenção: o nível do cloro está acima do padrão aceitável.\")\n",
        "  else:\n",
        "    print(\"O nível do cloro está dentro dos padrões aceitáveis.\")\n",
        "    break"
      ]
    }
  ]
}