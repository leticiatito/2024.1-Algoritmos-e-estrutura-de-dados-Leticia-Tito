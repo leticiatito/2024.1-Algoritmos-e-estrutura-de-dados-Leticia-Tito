{
  "nbformat": 4,
  "nbformat_minor": 0,
  "metadata": {
    "colab": {
      "provenance": [],
      "authorship_tag": "ABX9TyO/VudcUWvJWugvMDSpaio5",
      "include_colab_link": true
    },
    "kernelspec": {
      "name": "python3",
      "display_name": "Python 3"
    },
    "language_info": {
      "name": "python"
    }
  },
  "cells": [
    {
      "cell_type": "markdown",
      "metadata": {
        "id": "view-in-github",
        "colab_type": "text"
      },
      "source": [
        "<a href=\"https://colab.research.google.com/github/leticiatito/2024.1-Algoritmos-e-estrutura-de-dados-Leticia-Tito/blob/main/13_vetores.ipynb\" target=\"_parent\"><img src=\"https://colab.research.google.com/assets/colab-badge.svg\" alt=\"Open In Colab\"/></a>"
      ]
    },
    {
      "cell_type": "code",
      "execution_count": 1,
      "metadata": {
        "colab": {
          "base_uri": "https://localhost:8080/"
        },
        "id": "PtHBmrCddz2U",
        "outputId": "5b941fe3-e9ab-462f-900e-e7306f730bb4"
      },
      "outputs": [
        {
          "output_type": "stream",
          "name": "stdout",
          "text": [
            "familia revoredo\n",
            "familia Menezes\n"
          ]
        }
      ],
      "source": [
        "#considere um edificio com diversas familias e/ou moradores por andar\n",
        "edificio_terreo = \"familia revoredo\"\n",
        "edificio_1o_andar = \"familia Menezes\"\n",
        "edificio_2o_andar = \"familia Martins\"\n",
        "edificio_3o_andar = \"familia Pinheiro\"\n",
        "\n",
        "#como atribuir em localizações do vetor, abstraindo o andar\n",
        "edificio = [\n",
        "    edificio_terreo,\n",
        "    edificio_1o_andar,\n",
        "    edificio_2o_andar,\n",
        "    edificio_3o_andar\n",
        "]\n",
        "\n",
        "print(edificio[0])\n",
        "print(edificio[1])\n"
      ]
    },
    {
      "cell_type": "code",
      "source": [
        "my_array = [7,24, \"fish\", \"hat stand\"]\n",
        "print(my_array[2])"
      ],
      "metadata": {
        "colab": {
          "base_uri": "https://localhost:8080/"
        },
        "id": "ls_hyMY-hk1z",
        "outputId": "8dde4d1b-a107-4a9e-a419-a175d2c76470"
      },
      "execution_count": 2,
      "outputs": [
        {
          "output_type": "stream",
          "name": "stdout",
          "text": [
            "fish\n"
          ]
        }
      ]
    },
    {
      "cell_type": "code",
      "source": [
        "my_words = [\"dudes\", \"and\"]\n",
        "print(my_words[0])\n"
      ],
      "metadata": {
        "id": "LB75UE6_iGdR"
      },
      "execution_count": null,
      "outputs": []
    },
    {
      "cell_type": "code",
      "source": [
        "#lista vazia\n",
        "lista = []\n",
        "\n",
        "#uma lista com três notas\n",
        "notas = [7.5, 9, 8.3]\n",
        "\n",
        "#acessar uma nota\n",
        "print(notas[0])\n",
        "\n",
        "#modificar a primeira nota\n",
        "notas[0] = 8.7\n",
        "print(notas[0])"
      ],
      "metadata": {
        "colab": {
          "base_uri": "https://localhost:8080/"
        },
        "id": "-JS3bM-kiiZJ",
        "outputId": "16889514-f78e-4ddb-ba2c-4094dd72a0a6"
      },
      "execution_count": 3,
      "outputs": [
        {
          "output_type": "stream",
          "name": "stdout",
          "text": [
            "7.5\n",
            "8.7\n"
          ]
        }
      ]
    },
    {
      "cell_type": "code",
      "source": [
        "#calcule a média de 5 notas\n",
        "notas = [6, 7, 5, 8, 9]\n",
        "soma = 0\n",
        "x = 0 #iteração\n",
        "while (x<5):\n",
        "    soma = soma + notas[x]\n",
        "    #simplificando em python\n",
        "    #soma += notas[x]\n",
        "\n",
        "    #impressão para depuração\n",
        "    #print(x)\n",
        "    #print(soma)\n",
        "\n",
        "    #controle da iteração\n",
        "x = x + 1 #é equivalente a x += 1\n",
        "    x += 1\n",
        "print(\"media: %5.2f\" % (soma/5))"
      ],
      "metadata": {
        "colab": {
          "base_uri": "https://localhost:8080/",
          "height": 106
        },
        "id": "BwyGfh9gjgga",
        "outputId": "3c57e706-c025-484f-f0d4-240bcb9a157d"
      },
      "execution_count": 5,
      "outputs": [
        {
          "output_type": "error",
          "ename": "IndentationError",
          "evalue": "unexpected indent (<ipython-input-5-962c3d5dc23a>, line 16)",
          "traceback": [
            "\u001b[0;36m  File \u001b[0;32m\"<ipython-input-5-962c3d5dc23a>\"\u001b[0;36m, line \u001b[0;32m16\u001b[0m\n\u001b[0;31m    x += 1\u001b[0m\n\u001b[0m    ^\u001b[0m\n\u001b[0;31mIndentationError\u001b[0m\u001b[0;31m:\u001b[0m unexpected indent\n"
          ]
        }
      ]
    }
  ]
}