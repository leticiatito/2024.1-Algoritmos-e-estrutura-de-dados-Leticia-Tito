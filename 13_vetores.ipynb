{
  "nbformat": 4,
  "nbformat_minor": 0,
  "metadata": {
    "colab": {
      "provenance": [],
      "authorship_tag": "ABX9TyM/nYyQ0djFL2iMs/4ksn2Q",
      "include_colab_link": true
    },
    "kernelspec": {
      "name": "python3",
      "display_name": "Python 3"
    },
    "language_info": {
      "name": "python"
    }
  },
  "cells": [
    {
      "cell_type": "markdown",
      "metadata": {
        "id": "view-in-github",
        "colab_type": "text"
      },
      "source": [
        "<a href=\"https://colab.research.google.com/github/leticiatito/2024.1-Algoritmos-e-estrutura-de-dados-Leticia-Tito/blob/main/13_vetores.ipynb\" target=\"_parent\"><img src=\"https://colab.research.google.com/assets/colab-badge.svg\" alt=\"Open In Colab\"/></a>"
      ]
    },
    {
      "cell_type": "code",
      "execution_count": 3,
      "metadata": {
        "colab": {
          "base_uri": "https://localhost:8080/"
        },
        "id": "PtHBmrCddz2U",
        "outputId": "a32f93fa-7c58-459e-fc44-624c837f92c7"
      },
      "outputs": [
        {
          "output_type": "stream",
          "name": "stdout",
          "text": [
            "familia revoredo\n",
            "familia Menezes\n"
          ]
        }
      ],
      "source": [
        "#considere um edificio com diversas familias e/ou moradores por andar\n",
        "edificio_terreo = \"familia revoredo\"\n",
        "edificio_1o_andar = \"familia Menezes\"\n",
        "edificio_2o_andar = \"familia Martins\"\n",
        "edificio_3o_andar = \"familia Pinheiro\"\n",
        "\n",
        "#como atribuir em localizações do vetor, abstraindo o andar\n",
        "edificio = [\n",
        "    edificio_terreo,\n",
        "    edificio_1o_andar,\n",
        "    edificio_2o_andar,\n",
        "    edificio_3o_andar\n",
        "]\n",
        "\n",
        "print(edificio[0])\n",
        "print(edificio[1])\n"
      ]
    },
    {
      "cell_type": "code",
      "source": [
        "my_array = [7,24, \"fish\", \"hat stand\"]\n",
        "print(my_array[2])"
      ],
      "metadata": {
        "colab": {
          "base_uri": "https://localhost:8080/"
        },
        "id": "ls_hyMY-hk1z",
        "outputId": "6802c169-eb12-4d79-f94f-895a5da61eff"
      },
      "execution_count": 4,
      "outputs": [
        {
          "output_type": "stream",
          "name": "stdout",
          "text": [
            "fish\n"
          ]
        }
      ]
    },
    {
      "cell_type": "code",
      "source": [
        "my_words = [\"dudes\", \"and\"]\n",
        "print(my_words[0])\n"
      ],
      "metadata": {
        "id": "LB75UE6_iGdR",
        "colab": {
          "base_uri": "https://localhost:8080/"
        },
        "outputId": "c652cd03-57de-4fe2-d5a9-7d5f0dbb53e6"
      },
      "execution_count": 5,
      "outputs": [
        {
          "output_type": "stream",
          "name": "stdout",
          "text": [
            "dudes\n"
          ]
        }
      ]
    },
    {
      "cell_type": "code",
      "source": [
        "#lista vazia\n",
        "lista = []\n",
        "\n",
        "#uma lista com três notas\n",
        "notas = [7.5, 9, 8.3]\n",
        "\n",
        "#acessar uma nota\n",
        "print(notas[0])\n",
        "\n",
        "#modificar a primeira nota\n",
        "notas[0] = 8.7\n",
        "print(notas[0])"
      ],
      "metadata": {
        "colab": {
          "base_uri": "https://localhost:8080/"
        },
        "id": "-JS3bM-kiiZJ",
        "outputId": "992f7c06-e8be-424d-ee88-53b3c26feb1d"
      },
      "execution_count": 6,
      "outputs": [
        {
          "output_type": "stream",
          "name": "stdout",
          "text": [
            "7.5\n",
            "8.7\n"
          ]
        }
      ]
    },
    {
      "cell_type": "code",
      "source": [
        "#calcule a média de 5 notas\n",
        "notas = [6, 7, 5, 8, 9]\n",
        "soma = 0\n",
        "x = 0 #iteração\n",
        "while (x<5):\n",
        "    soma = soma + notas[x]\n",
        "    #simplificando em python\n",
        "    #soma += notas[x]\n",
        "\n",
        "    #impressão para depuração\n",
        "    #print(x)\n",
        "    #print(soma)\n",
        "\n",
        "    #controle da iteração\n",
        "    x = x + 1 #é equivalente a x += 1\n",
        "x += 1\n",
        "print(\"media: %5.2f\" % (soma/5))"
      ],
      "metadata": {
        "colab": {
          "base_uri": "https://localhost:8080/"
        },
        "id": "BwyGfh9gjgga",
        "outputId": "41e5c5f9-ce54-4bf1-9761-bea895883e52"
      },
      "execution_count": 19,
      "outputs": [
        {
          "output_type": "stream",
          "name": "stdout",
          "text": [
            "media:  7.00\n"
          ]
        }
      ]
    },
    {
      "cell_type": "code",
      "source": [
        "palavras = ['guerra', 'paz', 'vida', 'tranquilidade']\n",
        "'guerra' in palavras\n",
        "'saúde' in palavras"
      ],
      "metadata": {
        "id": "shdyhgGlqduO"
      },
      "execution_count": null,
      "outputs": []
    },
    {
      "cell_type": "code",
      "source": [
        "for numero in range(20):\n",
        "    print(numero)\n",
        "    if(numero % 2 == 0):\n",
        "      print(numero)"
      ],
      "metadata": {
        "id": "bhkrCN7frO_P"
      },
      "execution_count": null,
      "outputs": []
    },
    {
      "cell_type": "code",
      "source": [
        "for fruta in ['banana', 'abacaxi', 'laranja']:\n",
        "    print(\"Eu gosto de comer \" +fruta + \"s!\")"
      ],
      "metadata": {
        "colab": {
          "base_uri": "https://localhost:8080/"
        },
        "id": "LNbUUubdsExl",
        "outputId": "bd593dae-c38d-4263-d09c-bab4607bd7fa"
      },
      "execution_count": 13,
      "outputs": [
        {
          "output_type": "stream",
          "name": "stdout",
          "text": [
            "Eu gosto de comer bananas!\n",
            "Eu gosto de comer abacaxis!\n",
            "Eu gosto de comer laranjas!\n"
          ]
        }
      ]
    },
    {
      "cell_type": "code",
      "source": [
        "#concatenação\n",
        "a = [1, 2, 3]\n",
        "b = [4, 5, 6]\n",
        "c = a + b\n",
        "print(c)"
      ],
      "metadata": {
        "colab": {
          "base_uri": "https://localhost:8080/"
        },
        "id": "nT2XWakms32D",
        "outputId": "d006d745-bec6-4004-9c1d-34ae8c84e1c8"
      },
      "execution_count": 14,
      "outputs": [
        {
          "output_type": "stream",
          "name": "stdout",
          "text": [
            "[1, 2, 3, 4, 5, 6]\n"
          ]
        }
      ]
    },
    {
      "cell_type": "code",
      "source": [
        "#repetição\n",
        "d = [0] * 4\n",
        "print(d)\n",
        "\n",
        "e = [1,2,3] * 3\n",
        "print(e)"
      ],
      "metadata": {
        "colab": {
          "base_uri": "https://localhost:8080/"
        },
        "id": "5hmh5SrxuEdu",
        "outputId": "3fff38bd-fee4-459a-e241-c15e29ab1e9f"
      },
      "execution_count": 15,
      "outputs": [
        {
          "output_type": "stream",
          "name": "stdout",
          "text": [
            "[0, 0, 0, 0]\n",
            "[1, 2, 3, 1, 2, 3, 1, 2, 3]\n"
          ]
        }
      ]
    },
    {
      "cell_type": "code",
      "source": [
        "#slicing ou fatiamento de uma lista\n",
        "lista = ['a', 'b', 'c', 'd', 'e']\n",
        "print(lista[1:3])\n",
        "print(lista[:4])\n",
        "print(lista[3:])\n",
        "print(lista[:])"
      ],
      "metadata": {
        "colab": {
          "base_uri": "https://localhost:8080/"
        },
        "id": "YsNlC6_OuYVM",
        "outputId": "a5b55b37-4763-4098-ca3d-ce118789b015"
      },
      "execution_count": 18,
      "outputs": [
        {
          "output_type": "stream",
          "name": "stdout",
          "text": [
            "['b', 'c']\n",
            "['a', 'b', 'c', 'd']\n",
            "['d', 'e']\n",
            "['a', 'b', 'c', 'd', 'e']\n"
          ]
        }
      ]
    },
    {
      "cell_type": "code",
      "source": [
        "a = ['um', 'dois', 'tres']\n",
        "print(a)\n",
        "del a[1]\n",
        "a= a[1]\n",
        "print(a)"
      ],
      "metadata": {
        "colab": {
          "base_uri": "https://localhost:8080/"
        },
        "id": "C99WzaxZv5Ny",
        "outputId": "2d7bc6f0-3b01-4a45-811a-3687d4ed53d4"
      },
      "execution_count": 21,
      "outputs": [
        {
          "output_type": "stream",
          "name": "stdout",
          "text": [
            "['um', 'dois', 'tres']\n",
            "tres\n"
          ]
        }
      ]
    },
    {
      "cell_type": "code",
      "source": [
        "lista = ['a', 'b', 'c', 'd', 'e', 'f']\n",
        "print(lista)\n",
        "del lista[1:5]\n",
        "print(lista)"
      ],
      "metadata": {
        "colab": {
          "base_uri": "https://localhost:8080/"
        },
        "id": "WEpUqu6Kuw3H",
        "outputId": "47aaecb9-7ee6-4b84-a184-1597564b2a81"
      },
      "execution_count": 22,
      "outputs": [
        {
          "output_type": "stream",
          "name": "stdout",
          "text": [
            "['a', 'b', 'c', 'd', 'e', 'f']\n",
            "['a', 'f']\n"
          ]
        }
      ]
    },
    {
      "cell_type": "code",
      "source": [
        "#clonagem de listas\n",
        "\n",
        "a = [1, 2, 3]\n",
        "b = a[:]\n",
        "b[0] = 5\n",
        "print(a)\n",
        "\n",
        "#clonar\n",
        "a = [1, 2, 3]\n",
        "b = a[:]\n",
        "print(b)\n",
        "b[0] = 5\n",
        "print(a)\n",
        "print(b)"
      ],
      "metadata": {
        "colab": {
          "base_uri": "https://localhost:8080/"
        },
        "id": "ZxDWGz2Ax3IG",
        "outputId": "637106ab-2d6b-476d-cb2b-75a975f73c49"
      },
      "execution_count": 25,
      "outputs": [
        {
          "output_type": "stream",
          "name": "stdout",
          "text": [
            "[1, 2, 3]\n",
            "[1, 2, 3]\n",
            "[1, 2, 3]\n",
            "[5, 2, 3]\n"
          ]
        }
      ]
    },
    {
      "cell_type": "code",
      "source": [],
      "metadata": {
        "id": "8Mek6138z_F0"
      },
      "execution_count": null,
      "outputs": []
    }
  ]
}