{
  "nbformat": 4,
  "nbformat_minor": 0,
  "metadata": {
    "colab": {
      "provenance": [],
      "authorship_tag": "ABX9TyPZRxJYK0ClsJLgYHQmnfmT",
      "include_colab_link": true
    },
    "kernelspec": {
      "name": "python3",
      "display_name": "Python 3"
    },
    "language_info": {
      "name": "python"
    }
  },
  "cells": [
    {
      "cell_type": "markdown",
      "metadata": {
        "id": "view-in-github",
        "colab_type": "text"
      },
      "source": [
        "<a href=\"https://colab.research.google.com/github/leticiatito/2024.1-Algoritmos-e-estrutura-de-dados-Leticia-Tito/blob/main/08_objetos_builtin_python.ipynb\" target=\"_parent\"><img src=\"https://colab.research.google.com/assets/colab-badge.svg\" alt=\"Open In Colab\"/></a>"
      ]
    },
    {
      "cell_type": "code",
      "execution_count": 4,
      "metadata": {
        "colab": {
          "base_uri": "https://localhost:8080/"
        },
        "id": "6D05ymUy6KIW",
        "outputId": "f9dfe702-6ae9-4c63-b217-d485f0699d3d"
      },
      "outputs": [
        {
          "output_type": "stream",
          "name": "stdout",
          "text": [
            "4\n",
            "<class 'str'>\n",
            "['__add__', '__class__', '__contains__', '__delattr__', '__dir__', '__doc__', '__eq__', '__format__', '__ge__', '__getattribute__', '__getitem__', '__getnewargs__', '__gt__', '__hash__', '__init__', '__init_subclass__', '__iter__', '__le__', '__len__', '__lt__', '__mod__', '__mul__', '__ne__', '__new__', '__reduce__', '__reduce_ex__', '__repr__', '__rmod__', '__rmul__', '__setattr__', '__sizeof__', '__str__', '__subclasshook__', 'capitalize', 'casefold', 'center', 'count', 'encode', 'endswith', 'expandtabs', 'find', 'format', 'format_map', 'index', 'isalnum', 'isalpha', 'isascii', 'isdecimal', 'isdigit', 'isidentifier', 'islower', 'isnumeric', 'isprintable', 'isspace', 'istitle', 'isupper', 'join', 'ljust', 'lower', 'lstrip', 'maketrans', 'partition', 'removeprefix', 'removesuffix', 'replace', 'rfind', 'rindex', 'rjust', 'rpartition', 'rsplit', 'rstrip', 'split', 'splitlines', 'startswith', 'strip', 'swapcase', 'title', 'translate', 'upper', 'zfill']\n",
            "False\n",
            "True\n",
            "False\n",
            "True\n"
          ]
        }
      ],
      "source": [
        "#Exemplo de uso de objetos built-in do python\n",
        "s = 'spam'\n",
        "\n",
        "#tamanho de s\n",
        "print(len(s))\n",
        "\n",
        "#tipo de classe de\n",
        "print(type(s))\n",
        "\n",
        "#atributos de objetos disponíveis para s\n",
        "print(dir(s))\n",
        "\n",
        "#testando o atributo isnumeric\n",
        "print(s.isnumeric())\n",
        "print(s.isascii())\n",
        "print(s.isdecimal())\n",
        "print(s.isprintable())"
      ]
    },
    {
      "cell_type": "code",
      "source": [
        "print(s[0])\n",
        "print(s[1:3])\n",
        "#tres primeiros caracteres\n",
        "print(s[:3])\n",
        "print(s[:2])\n",
        "\n",
        "#adicionar o sufixo xyz\n",
        "print(s + 'xyz')\n",
        "\n",
        "#buscar o trecho com pa\n",
        "print(s.find('pa'))\n",
        "\n",
        "#colocar em maiusculas\n",
        "print(s.upper())\n",
        "\n",
        "#colocar em minusculas\n",
        "print(s.lower())\n",
        "\n",
        "#substituir um trecho, exemplo, pa por ma\n",
        "print(s.replace('pa','ma'))\n",
        "#para substituir permanentemente, teria que acontecer\n",
        "#uma operção de atribuição\n",
        "#s = s.replace('pa','ma')\n",
        "print(s)"
      ],
      "metadata": {
        "colab": {
          "base_uri": "https://localhost:8080/"
        },
        "id": "946sej619Xtf",
        "outputId": "902836d6-4108-4b93-c3db-e127e3fde1fa"
      },
      "execution_count": 7,
      "outputs": [
        {
          "output_type": "stream",
          "name": "stdout",
          "text": [
            "s\n",
            "pa\n",
            "spa\n",
            "sp\n",
            "spamxyz\n",
            "1\n",
            "SPAM\n",
            "spam\n",
            "smam\n",
            "spam\n"
          ]
        }
      ]
    },
    {
      "cell_type": "code",
      "source": [
        "l = [123, 'casa', 3.14]\n",
        "print(type(1))\n",
        "print(dir(1))"
      ],
      "metadata": {
        "colab": {
          "base_uri": "https://localhost:8080/"
        },
        "id": "QkF4xwPYAIWK",
        "outputId": "ee7a33df-9bc2-4232-8ed0-b11fd5f7c0dd"
      },
      "execution_count": 9,
      "outputs": [
        {
          "output_type": "stream",
          "name": "stdout",
          "text": [
            "<class 'int'>\n",
            "['__abs__', '__add__', '__and__', '__bool__', '__ceil__', '__class__', '__delattr__', '__dir__', '__divmod__', '__doc__', '__eq__', '__float__', '__floor__', '__floordiv__', '__format__', '__ge__', '__getattribute__', '__getnewargs__', '__gt__', '__hash__', '__index__', '__init__', '__init_subclass__', '__int__', '__invert__', '__le__', '__lshift__', '__lt__', '__mod__', '__mul__', '__ne__', '__neg__', '__new__', '__or__', '__pos__', '__pow__', '__radd__', '__rand__', '__rdivmod__', '__reduce__', '__reduce_ex__', '__repr__', '__rfloordiv__', '__rlshift__', '__rmod__', '__rmul__', '__ror__', '__round__', '__rpow__', '__rrshift__', '__rshift__', '__rsub__', '__rtruediv__', '__rxor__', '__setattr__', '__sizeof__', '__str__', '__sub__', '__subclasshook__', '__truediv__', '__trunc__', '__xor__', 'as_integer_ratio', 'bit_count', 'bit_length', 'conjugate', 'denominator', 'from_bytes', 'imag', 'numerator', 'real', 'to_bytes']\n"
          ]
        }
      ]
    },
    {
      "cell_type": "code",
      "source": [
        "print(len(l))\n",
        "print(l[2])\n",
        "#duplicar a lista\n",
        "print(l*2)\n",
        "#adicionar um item a lista\n",
        "l.append('bola')\n",
        "print(l)"
      ],
      "metadata": {
        "colab": {
          "base_uri": "https://localhost:8080/"
        },
        "id": "CPfwKXMVAnWu",
        "outputId": "bf02cc86-f6d7-457e-b8c3-742ee6d89d78"
      },
      "execution_count": 22,
      "outputs": [
        {
          "output_type": "stream",
          "name": "stdout",
          "text": [
            "9\n",
            "3.14\n",
            "[123, 'casa', 3.14, 'abc', 'abc', 'abc', 'abc', 'bola', 'bola', 123, 'casa', 3.14, 'abc', 'abc', 'abc', 'abc', 'bola', 'bola']\n",
            "[123, 'casa', 3.14, 'abc', 'abc', 'abc', 'abc', 'bola', 'bola', 'bola']\n"
          ]
        }
      ]
    }
  ]
}