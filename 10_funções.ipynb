{
  "nbformat": 4,
  "nbformat_minor": 0,
  "metadata": {
    "colab": {
      "provenance": [],
      "authorship_tag": "ABX9TyNh9sugc2MHW+ATCHuZpVFR",
      "include_colab_link": true
    },
    "kernelspec": {
      "name": "python3",
      "display_name": "Python 3"
    },
    "language_info": {
      "name": "python"
    }
  },
  "cells": [
    {
      "cell_type": "markdown",
      "metadata": {
        "id": "view-in-github",
        "colab_type": "text"
      },
      "source": [
        "<a href=\"https://colab.research.google.com/github/leticiatito/2024.1-Algoritmos-e-estrutura-de-dados-Leticia-Tito/blob/main/10_fun%C3%A7%C3%B5es.ipynb\" target=\"_parent\"><img src=\"https://colab.research.google.com/assets/colab-badge.svg\" alt=\"Open In Colab\"/></a>"
      ]
    },
    {
      "cell_type": "code",
      "source": [
        "#função de retorno par\n",
        "def epar(num):\n",
        "    if num % 2 == 0:\n",
        "        return True\n",
        "    else:\n",
        "        return False\n",
        "\n",
        "print(epar(4))\n",
        "print(epar(3))\n",
        ""
      ],
      "metadata": {
        "colab": {
          "base_uri": "https://localhost:8080/"
        },
        "id": "sjwK0moLmmGL",
        "outputId": "2d460a6e-499d-447d-c2a7-39fc97270ec8"
      },
      "execution_count": 1,
      "outputs": [
        {
          "output_type": "stream",
          "name": "stdout",
          "text": [
            "True\n",
            "False\n"
          ]
        }
      ]
    },
    {
      "cell_type": "code",
      "source": [
        "#funcção para verificar se um número é primo\n",
        "def primo(num):\n",
        "    for i in range(2, num):\n",
        "        if num % i == 0:\n",
        "            return False\n",
        "    return True\n",
        "\n",
        "#print(primo(4))\n",
        "#print(primo(5))\n",
        "valor = int(input('Digite o número inteiro para verificar se é primo:'))\n",
        "if primo(valor):\n",
        "  print('O número é primo')\n",
        "else:\n",
        "  print('O número não é primo')"
      ],
      "metadata": {
        "colab": {
          "base_uri": "https://localhost:8080/"
        },
        "id": "AthVzd1Hmrzj",
        "outputId": "b52c9a0b-c323-40df-e315-6d31e0bf369b"
      },
      "execution_count": 2,
      "outputs": [
        {
          "output_type": "stream",
          "name": "stdout",
          "text": [
            "Digite o número inteiro para verificar se é primo:10\n",
            "O número não é primo\n"
          ]
        }
      ]
    },
    {
      "cell_type": "code",
      "source": [
        "#implementar uma função para calcular equações de segundo grau, utilizando a fórmula de Baskara\n",
        "#ax² + bx + c = 0\n",
        "def chitaozinho(a, b, c):\n",
        "  delta = b**2 - 4*a*c\n",
        "  if delta < 0:\n",
        "    print('A equação não possui raízes reais')\n",
        "  elif delta == 0:\n",
        "    x = -b/(2*a)\n",
        "    print('A equação possui apenas uma raiz real:', x)\n",
        "  else:\n",
        "    x1 = (-b + delta**0.5)/(2*a)\n",
        "    x2 = (-b - delta**0.5)/(2*a)\n",
        "    print('A equação possui duas raízes reais:', x1, 'e', x2)\n",
        "\n",
        "a = float(input('Digite o valor de a:'))\n",
        "b = float(input('Digite o valor de b:'))\n",
        "c = float(input('Digite o valor de c:'))\n",
        "\n",
        "chitaozinho(a, b, c)"
      ],
      "metadata": {
        "colab": {
          "base_uri": "https://localhost:8080/"
        },
        "id": "DW-6md3Lmz58",
        "outputId": "10d5c00b-a059-43af-f27f-951fc1a91d36"
      },
      "execution_count": 3,
      "outputs": [
        {
          "output_type": "stream",
          "name": "stdout",
          "text": [
            "Digite o valor de a:20\n",
            "Digite o valor de b:30\n",
            "Digite o valor de c:50\n",
            "A equação não possui raízes reais\n"
          ]
        }
      ]
    },
    {
      "cell_type": "code",
      "source": [
        "#implementar uma função para calcular equações de segundo grau, utilizando a fórmula de Baskara\n",
        "#ax² + bx + c = 0\n",
        "def chitaozinho(a, b, c):\n",
        "  delta = b**2 - 4*a*c\n",
        "  chitaozinho_raiz(delta)\n",
        "\n",
        "#desacomplamento da função da raiz\n",
        "def chitaozinho_raiz(delta):\n",
        "  if delta < 0:\n",
        "    print('A equação não possui raízes reais')\n",
        "  elif delta == 0:\n",
        "    x = -b/(2*a)\n",
        "    print('A equação possui apenas uma raiz real:', x)\n",
        "  else:\n",
        "    x1 = (-b + delta**0.5)/(2*a)\n",
        "    x2 = (-b - delta**0.5)/(2*a)\n",
        "    print('A equação possui duas raízes reais:', x1, 'e', x2)\n",
        "\n",
        "a = float(input('Digite o valor de a:'))\n",
        "b = float(input('Digite o valor de b:'))\n",
        "c = float(input('Digite o valor de c:'))\n",
        "\n",
        "chitaozinho(a, b, c)\n"
      ],
      "metadata": {
        "colab": {
          "base_uri": "https://localhost:8080/"
        },
        "id": "E6VvO-dPnWA-",
        "outputId": "67a5af17-b567-450c-8a06-391e097a7106"
      },
      "execution_count": 4,
      "outputs": [
        {
          "output_type": "stream",
          "name": "stdout",
          "text": [
            "Digite o valor de a:20\n",
            "Digite o valor de b:30\n",
            "Digite o valor de c:50\n",
            "A equação não possui raízes reais\n"
          ]
        }
      ]
    },
    {
      "cell_type": "code",
      "source": [
        "#função de Fibbonaci\n",
        "def fibbonaci(n):\n",
        "  seq = [1,1]\n",
        "  for i in range(2,n):\n",
        "    seq.append(seq[i-1]+seq[i-2])\n",
        "  return seq\n",
        "print(fibbonaci(12))"
      ],
      "metadata": {
        "colab": {
          "base_uri": "https://localhost:8080/"
        },
        "id": "lkhchN7jnfYG",
        "outputId": "b57a84da-56d0-43a4-d5bc-5998d8aba541"
      },
      "execution_count": 5,
      "outputs": [
        {
          "output_type": "stream",
          "name": "stdout",
          "text": [
            "[1, 1, 2, 3, 5, 8, 13, 21, 34, 55, 89, 144]\n"
          ]
        }
      ]
    },
    {
      "cell_type": "code",
      "source": [
        "a=5\n",
        "def muda_e_imprime():\n",
        "  a=10\n",
        "  print('a dentro da função: ', a) #a=10\n",
        "\n",
        "print('a antes de mudar: ', a) #a=5\n",
        "muda_e_imprime() #chamada da funcao, a=10\n",
        "print('a depois de mudar: ', a) #a=5\n",
        ""
      ],
      "metadata": {
        "colab": {
          "base_uri": "https://localhost:8080/"
        },
        "id": "9uyYrhcDoeQR",
        "outputId": "1f6812ca-7c13-4405-da68-3b92636e4b20"
      },
      "execution_count": 6,
      "outputs": [
        {
          "output_type": "stream",
          "name": "stdout",
          "text": [
            "a antes de mudar:  5\n",
            "a dentro da função:  10\n",
            "a depois de mudar:  5\n"
          ]
        }
      ]
    },
    {
      "cell_type": "code",
      "source": [
        "a=5\n",
        "def muda_e_imprime():\n",
        "  global a #declara que a é uma variável global\n",
        "  a=10\n",
        "  print('a dentro da função: ', a) #a=10\n",
        "\n",
        "print('a antes de mudar: ', a) #a=5\n",
        "muda_e_imprime() #chamada da funcao, a=10\n",
        "print('a depois de mudar: ', a) #a=10"
      ],
      "metadata": {
        "colab": {
          "base_uri": "https://localhost:8080/"
        },
        "id": "ESw6ZTKVogNB",
        "outputId": "2f4790e8-322f-4611-e0da-072bd225d4a4"
      },
      "execution_count": 7,
      "outputs": [
        {
          "output_type": "stream",
          "name": "stdout",
          "text": [
            "a antes de mudar:  5\n",
            "a dentro da função:  10\n",
            "a depois de mudar:  10\n"
          ]
        }
      ]
    }
  ]
}