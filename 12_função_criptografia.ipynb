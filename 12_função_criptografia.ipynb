{
  "nbformat": 4,
  "nbformat_minor": 0,
  "metadata": {
    "colab": {
      "provenance": [],
      "authorship_tag": "ABX9TyOILrplchtjOUyReO5fsm5b",
      "include_colab_link": true
    },
    "kernelspec": {
      "name": "python3",
      "display_name": "Python 3"
    },
    "language_info": {
      "name": "python"
    }
  },
  "cells": [
    {
      "cell_type": "markdown",
      "metadata": {
        "id": "view-in-github",
        "colab_type": "text"
      },
      "source": [
        "<a href=\"https://colab.research.google.com/github/leticiatito/2024.1-Algoritmos-e-estrutura-de-dados-Leticia-Tito/blob/main/12_fun%C3%A7%C3%A3o_criptografia.ipynb\" target=\"_parent\"><img src=\"https://colab.research.google.com/assets/colab-badge.svg\" alt=\"Open In Colab\"/></a>"
      ]
    },
    {
      "cell_type": "code",
      "execution_count": 2,
      "metadata": {
        "colab": {
          "base_uri": "https://localhost:8080/"
        },
        "id": "kto2jFc-X7RO",
        "outputId": "9a7eb5e5-0119-4796-e079-534a0b692f4e"
      },
      "outputs": [
        {
          "output_type": "stream",
          "name": "stdout",
          "text": [
            "Digite a mensagem para criptografar:sala de aula\n",
            "Mensagem criptografada: p{p/st/p{p\n",
            "Mensagem descriptografada: sala de aula\n"
          ]
        }
      ],
      "source": [
        "#criptografia\n",
        "def criptografia(msg):\n",
        "  s = ''\n",
        "  #cifra de césar (adaptada)\n",
        "  for i in msg:\n",
        "    s += chr(ord(i) + 15)\n",
        "  return s\n",
        "\n",
        "def descriptografar(msg):\n",
        "  s = ''\n",
        "  for i in msg:\n",
        "    s += chr(ord(i) - 15)\n",
        "  return s\n",
        "\n",
        "mensagem = input(\"Digite a mensagem para criptografar:\")\n",
        "mensagem_criptografada = criptografia(mensagem)\n",
        "print(\"Mensagem criptografada:\", mensagem_criptografada)\n",
        "\n",
        "mensagem_descriptografada = descriptografar(mensagem_criptografada)\n",
        "print(\"Mensagem descriptografada:\", mensagem_descriptografada)"
      ]
    }
  ]
}