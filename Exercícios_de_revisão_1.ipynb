{
  "nbformat": 4,
  "nbformat_minor": 0,
  "metadata": {
    "colab": {
      "provenance": [],
      "authorship_tag": "ABX9TyNr9cqoGb/q5ZPV2COAL4+n",
      "include_colab_link": true
    },
    "kernelspec": {
      "name": "python3",
      "display_name": "Python 3"
    },
    "language_info": {
      "name": "python"
    }
  },
  "cells": [
    {
      "cell_type": "markdown",
      "metadata": {
        "id": "view-in-github",
        "colab_type": "text"
      },
      "source": [
        "<a href=\"https://colab.research.google.com/github/leticiatito/2024.1-Algoritmos-e-estrutura-de-dados-Leticia-Tito/blob/main/Exerc%C3%ADcios_de_revis%C3%A3o_1.ipynb\" target=\"_parent\"><img src=\"https://colab.research.google.com/assets/colab-badge.svg\" alt=\"Open In Colab\"/></a>"
      ]
    },
    {
      "cell_type": "markdown",
      "source": [
        "1.IMPRIMINDO \"OLÁ, MUNDO!\"."
      ],
      "metadata": {
        "id": "deLARooTNC-8"
      }
    },
    {
      "cell_type": "code",
      "source": [
        "print('olá, mundo!')"
      ],
      "metadata": {
        "colab": {
          "base_uri": "https://localhost:8080/"
        },
        "id": "58rtNOOVNEXH",
        "outputId": "b2d2a9c6-c866-4165-911f-ac64f35c9c60"
      },
      "execution_count": null,
      "outputs": [
        {
          "output_type": "stream",
          "name": "stdout",
          "text": [
            "olá, mundo!\n"
          ]
        }
      ]
    },
    {
      "cell_type": "markdown",
      "source": [
        "2.CALCULANDO MÉDIA DE NOTAS."
      ],
      "metadata": {
        "id": "fDvzkyAdNOJu"
      }
    },
    {
      "cell_type": "code",
      "source": [
        "nota1 = float(input('digite a primeira nota:'))\n",
        "nota2 = float(input('digite a segunda nota:'))\n",
        "nota3 = float(input('digite a terceira nota:'))\n",
        "\n",
        "media = (nota1 + nota2 + nota3) / 3\n",
        "print(f'a media final é: {media: .2f}')"
      ],
      "metadata": {
        "colab": {
          "base_uri": "https://localhost:8080/"
        },
        "id": "Mgdxjl4qNUN4",
        "outputId": "07ac1c11-e4fa-4322-9782-b6d62432a5f7"
      },
      "execution_count": null,
      "outputs": [
        {
          "output_type": "stream",
          "name": "stdout",
          "text": [
            "digite a primeira nota:9\n",
            "digite a segunda nota:5\n",
            "digite a terceira nota:7\n",
            "a media final é:  7.00\n"
          ]
        }
      ]
    },
    {
      "cell_type": "markdown",
      "source": [
        "3.CALCULANDO MÉDIA DE NOTAS COM ENTRADA REPETIDA E OPÇÃO \"SAIR\"."
      ],
      "metadata": {
        "id": "tK5gQ0THRhoL"
      }
    },
    {
      "cell_type": "code",
      "source": [
        "def calcular_media():\n",
        "    soma_notas = 0\n",
        "    quantidade_notas = 0\n",
        "\n",
        "    while True:\n",
        "        nota = input(\"Digite uma nota (ou 'sair' para finalizar): \")\n",
        "        if nota == 'sair':\n",
        "            break\n",
        "\n",
        "        if nota.replace('.', '', 1).isdigit():  # Verifica se a nota é um número válido\n",
        "            soma_notas += float(nota)\n",
        "            quantidade_notas += 1\n",
        "        else:\n",
        "            print(\"Entrada inválida. Por favor, digite um número.\")\n",
        "\n",
        "    if quantidade_notas > 0:\n",
        "        media = soma_notas / quantidade_notas\n",
        "        print(f\"A média das notas é: {media:.2f}\")\n",
        "    else:\n",
        "        print(\"Nenhuma nota foi inserida.\")\n",
        "\n",
        "calcular_media()"
      ],
      "metadata": {
        "colab": {
          "base_uri": "https://localhost:8080/"
        },
        "id": "tmg5fO-sVQ2e",
        "outputId": "e5ca4f10-bff4-4282-9e5c-32c9369b0c59"
      },
      "execution_count": 20,
      "outputs": [
        {
          "output_type": "stream",
          "name": "stdout",
          "text": [
            "Digite uma nota (ou 'sair' para finalizar): 6\n",
            "Digite uma nota (ou 'sair' para finalizar): 6\n",
            "Digite uma nota (ou 'sair' para finalizar): 5\n",
            "Digite uma nota (ou 'sair' para finalizar): sair\n",
            "A média das notas é: 5.67\n"
          ]
        }
      ]
    },
    {
      "cell_type": "markdown",
      "source": [
        "4.ENCONTRANDO O MAIOR ENTRE TRÊS NÚMEROS."
      ],
      "metadata": {
        "id": "GWjfS_gIVl8i"
      }
    },
    {
      "cell_type": "code",
      "source": [
        "print(max(80,90,200))"
      ],
      "metadata": {
        "colab": {
          "base_uri": "https://localhost:8080/"
        },
        "id": "zdppKfHmVoyL",
        "outputId": "ca474387-d1fc-40fc-ee0e-830fac1a7c4b"
      },
      "execution_count": 21,
      "outputs": [
        {
          "output_type": "stream",
          "name": "stdout",
          "text": [
            "200\n"
          ]
        }
      ]
    },
    {
      "cell_type": "markdown",
      "source": [
        "5.MONITORANDO QUALIDADE DA ÁGUA COM LOOP WHILE."
      ],
      "metadata": {
        "id": "p-FyNMf6VwZB"
      }
    },
    {
      "cell_type": "code",
      "source": [
        "print('insira o nível de cloro da água para verificar se está dentro do padrão aceito')\n",
        "paradinha = True\n",
        "#paradinha = 1 #outro exemplo\n",
        "\n",
        "while paradinha: #loop infinito // infinite loop\n",
        "  nível_cloro = float(input('digite o nível de cloro em mg/l: '))\n",
        "\n",
        "  if nível_cloro < 0.2:\n",
        "    print('atenção: o nível de cloro está abaixo do padrão aceitável')\n",
        "  elif nível_cloro > 2.0:\n",
        "    print('atenção: o nível do cloro está acima do padrão aceitável')\n",
        "  else:\n",
        "    print('o nível do cloro está dentro dos padrões aceitáveis')\n",
        "  paradinha = False"
      ],
      "metadata": {
        "colab": {
          "base_uri": "https://localhost:8080/"
        },
        "id": "uRii8QAtVz3x",
        "outputId": "7085e5d6-3419-4930-a90f-cd8049f0d203"
      },
      "execution_count": 26,
      "outputs": [
        {
          "output_type": "stream",
          "name": "stdout",
          "text": [
            "insira o nível de cloro da água para verificar se está dentro do padrão aceito\n",
            "digite o nível de cloro em mg/l: 2\n",
            "o nível do cloro está dentro dos padrões aceitáveis\n"
          ]
        }
      ]
    },
    {
      "cell_type": "markdown",
      "source": [
        "6.CALCULANDO A SOMA DE 1 A 100 COM LOOP WHILE."
      ],
      "metadata": {
        "id": "Kma6sVMpafP3"
      }
    },
    {
      "cell_type": "code",
      "source": [
        "def calcular_soma():\n",
        "    soma = 0\n",
        "    numero = 1\n",
        "\n",
        "    while numero <= 100:\n",
        "        soma += numero\n",
        "        numero += 1\n",
        "\n",
        "    print(f\"A soma dos números de 1 a 100 é: {resultado}\")\n",
        "\n",
        "calcular_soma()"
      ],
      "metadata": {
        "colab": {
          "base_uri": "https://localhost:8080/"
        },
        "id": "52L7qC_0akPW",
        "outputId": "c8c70d08-46d5-4229-d322-a6d756088c6b"
      },
      "execution_count": 30,
      "outputs": [
        {
          "output_type": "stream",
          "name": "stdout",
          "text": [
            "A soma dos números de 1 a 100 é: 5050\n"
          ]
        }
      ]
    },
    {
      "cell_type": "markdown",
      "source": [
        "7.IMPRIMINDO NÚMEROS DE 1 A 50 UTILIZANDO LOOP FOR."
      ],
      "metadata": {
        "id": "ElcA1uyLbUo2"
      }
    },
    {
      "cell_type": "code",
      "source": [
        "def ímpares():\n",
        "    for numero in range(1,50,2):\n",
        "        print(numero)\n",
        "\n",
        "ímpares()"
      ],
      "metadata": {
        "colab": {
          "base_uri": "https://localhost:8080/"
        },
        "id": "tD8_B69AbWHh",
        "outputId": "dd374343-9f20-49bc-92cf-1da240c01044"
      },
      "execution_count": 33,
      "outputs": [
        {
          "output_type": "stream",
          "name": "stdout",
          "text": [
            "1\n",
            "3\n",
            "5\n",
            "7\n",
            "9\n",
            "11\n",
            "13\n",
            "15\n",
            "17\n",
            "19\n",
            "21\n",
            "23\n",
            "25\n",
            "27\n",
            "29\n",
            "31\n",
            "33\n",
            "35\n",
            "37\n",
            "39\n",
            "41\n",
            "43\n",
            "45\n",
            "47\n",
            "49\n"
          ]
        }
      ]
    },
    {
      "cell_type": "markdown",
      "source": [
        "8.OPERAÇÕES COM LISTAS E DICIONÁRIOS."
      ],
      "metadata": {
        "id": "Hp3K65_KclY8"
      }
    },
    {
      "cell_type": "code",
      "source": [
        "# Definindo a lista inicial\n",
        "l = ['casa', 'carro', 'avião']\n",
        "\n",
        "# Imprimindo o comprimento da lista\n",
        "print(\"Comprimento da lista:\", len(l))\n",
        "\n",
        "# Imprimindo o terceiro elemento da lista\n",
        "print(\"Terceiro elemento da lista:\", l[2])\n",
        "\n",
        "# Imprimindo a lista duplicada\n",
        "print(\"Lista duplicada:\", l * 2)\n",
        "\n",
        "# Adicionando um novo elemento na lista\n",
        "l.append('bola')\n",
        "print(\"Lista após adicionar 'bola':\", l)\n",
        "\n",
        "# Removendo um elemento específico da lista\n",
        "l.remove('casa')\n",
        "print(\"Lista após remover 'casa':\", l)"
      ],
      "metadata": {
        "id": "8n5jTM4km9PE",
        "outputId": "4af94f68-2408-46c9-bb34-92931f6def84",
        "colab": {
          "base_uri": "https://localhost:8080/"
        }
      },
      "execution_count": 48,
      "outputs": [
        {
          "output_type": "stream",
          "name": "stdout",
          "text": [
            "Comprimento da lista: 3\n",
            "Terceiro elemento da lista: avião\n",
            "Lista duplicada: ['casa', 'carro', 'avião', 'casa', 'carro', 'avião']\n",
            "Lista após adicionar 'bola': ['casa', 'carro', 'avião', 'bola']\n",
            "Lista após remover 'casa': ['carro', 'avião', 'bola']\n"
          ]
        }
      ]
    },
    {
      "cell_type": "code",
      "source": [
        "c = 'casa'\n",
        "\n",
        "print(\"Tamanho de c:\", len(c))\n",
        "\n",
        "print(\"Tipo de c:\", type(c))\n",
        "\n",
        "print(\"Métodos e atributos de c:\", dir(c))"
      ],
      "metadata": {
        "id": "yHkk2CvRoEzv",
        "outputId": "8a8bed4f-ef69-4f87-e250-267dd2095441",
        "colab": {
          "base_uri": "https://localhost:8080/"
        }
      },
      "execution_count": 53,
      "outputs": [
        {
          "output_type": "stream",
          "name": "stdout",
          "text": [
            "Tamanho de c: 4\n",
            "Tipo de c: <class 'str'>\n",
            "Métodos e atributos de c: ['__add__', '__class__', '__contains__', '__delattr__', '__dir__', '__doc__', '__eq__', '__format__', '__ge__', '__getattribute__', '__getitem__', '__getnewargs__', '__gt__', '__hash__', '__init__', '__init_subclass__', '__iter__', '__le__', '__len__', '__lt__', '__mod__', '__mul__', '__ne__', '__new__', '__reduce__', '__reduce_ex__', '__repr__', '__rmod__', '__rmul__', '__setattr__', '__sizeof__', '__str__', '__subclasshook__', 'capitalize', 'casefold', 'center', 'count', 'encode', 'endswith', 'expandtabs', 'find', 'format', 'format_map', 'index', 'isalnum', 'isalpha', 'isascii', 'isdecimal', 'isdigit', 'isidentifier', 'islower', 'isnumeric', 'isprintable', 'isspace', 'istitle', 'isupper', 'join', 'ljust', 'lower', 'lstrip', 'maketrans', 'partition', 'removeprefix', 'removesuffix', 'replace', 'rfind', 'rindex', 'rjust', 'rpartition', 'rsplit', 'rstrip', 'split', 'splitlines', 'startswith', 'strip', 'swapcase', 'title', 'translate', 'upper', 'zfill']\n"
          ]
        }
      ]
    }
  ]
}