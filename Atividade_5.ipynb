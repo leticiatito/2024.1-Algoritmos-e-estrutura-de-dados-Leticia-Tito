{
  "nbformat": 4,
  "nbformat_minor": 0,
  "metadata": {
    "colab": {
      "provenance": [],
      "authorship_tag": "ABX9TyMoyvlIoo+s2Ypm/2tG9RQo",
      "include_colab_link": true
    },
    "kernelspec": {
      "name": "python3",
      "display_name": "Python 3"
    },
    "language_info": {
      "name": "python"
    }
  },
  "cells": [
    {
      "cell_type": "markdown",
      "metadata": {
        "id": "view-in-github",
        "colab_type": "text"
      },
      "source": [
        "<a href=\"https://colab.research.google.com/github/leticiatito/2024.1-Algoritmos-e-estrutura-de-dados-Leticia-Tito/blob/main/Atividade_5.ipynb\" target=\"_parent\"><img src=\"https://colab.research.google.com/assets/colab-badge.svg\" alt=\"Open In Colab\"/></a>"
      ]
    },
    {
      "cell_type": "markdown",
      "source": [
        "Questão 1"
      ],
      "metadata": {
        "id": "OgFQD_TYb553"
      }
    },
    {
      "cell_type": "code",
      "execution_count": 14,
      "metadata": {
        "colab": {
          "base_uri": "https://localhost:8080/"
        },
        "id": "SAgcuVZfZP1H",
        "outputId": "386fd135-37ba-4b13-a6fc-4b88f1b531d9"
      },
      "outputs": [
        {
          "output_type": "stream",
          "name": "stdout",
          "text": [
            "insira um número inteiro: -50\n",
            "O resultado é: 50\n"
          ]
        }
      ],
      "source": [
        "número = int(input(\"insira um número inteiro: \"))\n",
        "if número < 0:\n",
        "\n",
        "  número += 100\n",
        "\n",
        "print(f\"O resultado é: {número}\")"
      ]
    },
    {
      "cell_type": "markdown",
      "source": [
        "Questão 2"
      ],
      "metadata": {
        "id": "jGM-z29NcA3T"
      }
    },
    {
      "cell_type": "code",
      "source": [
        "Cursos = {\n",
        "1: \"Técnico em Informática\",\n",
        "2: \"Técnico em Informática EJA\",\n",
        "3: \"Técnico em Cooperativismo\",\n",
        "4: \"Técnico em Cooperativismo EJA\",\n",
        "5: \"Licenciatura em Física\"\n",
        "}\n",
        "\n",
        "Código = int(input(\"insira o código do curso: \"))\n",
        "\n",
        "if Código in Cursos:\n",
        "\n",
        "  print(f\"o curso é: {Cursos[Código]}\")\n",
        "\n",
        "else:\n",
        "\n",
        "  print(\"código inexistente, por favor verifique e tente novamente.\")"
      ],
      "metadata": {
        "colab": {
          "base_uri": "https://localhost:8080/"
        },
        "id": "bbNWESJDcCxp",
        "outputId": "66d9d7df-83ac-4266-99b9-ab3efe587352"
      },
      "execution_count": 10,
      "outputs": [
        {
          "output_type": "stream",
          "name": "stdout",
          "text": [
            "insira o código do curso: 2\n",
            "o curso é: Técnico em Informática EJA\n"
          ]
        }
      ]
    },
    {
      "cell_type": "markdown",
      "source": [
        "Questão 3"
      ],
      "metadata": {
        "id": "xau0v9Zy0H5g"
      }
    },
    {
      "cell_type": "code",
      "source": [
        "string1 = (\"Hello, world\")\n",
        "string2 = (\"Hello, world!!\")\n",
        "\n",
        "print(f'Tamanho de \"{string1}\"- {len(string1)} caracteres')\n",
        "print(f'Tamanho de \"{string2}\"- {len(string2)} caracteres')\n",
        "\n",
        "#comparando o comprimento das strings\n",
        "res1 = len(string1) == len(string2)\n",
        "\n",
        "#comparando o conteúdo das strings\n",
        "res2 = (string1 == string2)\n",
        "\n",
        "#imprimindo se as strings são iguais ou diferentes\n",
        "if res2:\n",
        "    print(\"As strings são iguais.\")\n",
        "else:\n",
        "    print(\"As strings são diferentes.\")"
      ],
      "metadata": {
        "colab": {
          "base_uri": "https://localhost:8080/"
        },
        "id": "ovaAQ9wY0JYX",
        "outputId": "7d31625e-574c-4f2a-d467-2d67bc804056"
      },
      "execution_count": 47,
      "outputs": [
        {
          "output_type": "stream",
          "name": "stdout",
          "text": [
            "Tamanho de \"Hello, world\"- 12 caracteres\n",
            "Tamanho de \"Hello, world!!\"- 14 caracteres\n",
            "As strings são diferentes.\n"
          ]
        }
      ]
    },
    {
      "cell_type": "markdown",
      "source": [
        "Questão 4"
      ],
      "metadata": {
        "id": "p0sqTLRe1aTQ"
      }
    },
    {
      "cell_type": "code",
      "source": [
        "\n",
        "x = \"0123456789\"\n",
        "\n",
        "#cortando os dois primeiros caracteres\n",
        "print(x[2:10])\n",
        "\n",
        "#cortando os dois últimos caracteres\n",
        "print(x[0:8])"
      ],
      "metadata": {
        "colab": {
          "base_uri": "https://localhost:8080/"
        },
        "id": "rmWiIG_t1cG0",
        "outputId": "9e9859c9-acbf-41d1-dac6-80c0eae1da58"
      },
      "execution_count": 15,
      "outputs": [
        {
          "output_type": "stream",
          "name": "stdout",
          "text": [
            "23456789\n",
            "01234567\n"
          ]
        }
      ]
    }
  ]
}