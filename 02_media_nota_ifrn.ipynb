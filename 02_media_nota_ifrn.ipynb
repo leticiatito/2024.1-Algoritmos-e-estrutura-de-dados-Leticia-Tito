{
  "nbformat": 4,
  "nbformat_minor": 0,
  "metadata": {
    "colab": {
      "provenance": [],
      "authorship_tag": "ABX9TyMd9rBNMR8vbIZ2GsjwpTeu",
      "include_colab_link": true
    },
    "kernelspec": {
      "name": "python3",
      "display_name": "Python 3"
    },
    "language_info": {
      "name": "python"
    }
  },
  "cells": [
    {
      "cell_type": "markdown",
      "metadata": {
        "id": "view-in-github",
        "colab_type": "text"
      },
      "source": [
        "<a href=\"https://colab.research.google.com/github/leticiatito/2024.1-Algoritmos-e-estrutura-de-dados-Leticia-Tito/blob/main/02_media_nota_ifrn.ipynb\" target=\"_parent\"><img src=\"https://colab.research.google.com/assets/colab-badge.svg\" alt=\"Open In Colab\"/></a>"
      ]
    },
    {
      "cell_type": "markdown",
      "source": [
        "Calculadora de média ponderada IFRN"
      ],
      "metadata": {
        "id": "25uN_oFnci-v"
      }
    },
    {
      "cell_type": "code",
      "source": [
        "print(\"calculadora de média ponderada do IFRN\")\n",
        "#float, tipagem explicíta, para garantir número fracionário\n",
        "n1 = float( input (\"digite a nota 1 (com peso 2)): \"))\n",
        "n2 = float( input (\"digite a nota 2 (com peso 3): \"))\n",
        "\n",
        "\n",
        "#calculo da média ponderada\n",
        "media = (n1 * 2 + n2 * 3) / 5\n",
        "\n",
        "\n",
        "#impressão da média\n",
        "#f inicial: caractere de escape para o rodar o .2f (f = formatação)\n",
        "print(f\"A média ponderada das notas é: {media: .2f}\")\n",
        "\n",
        "\n",
        "#apresentar se o aluno foi aprovado ou nãnão\n",
        "if media >= 6:\n",
        "  print(\"Aprovado\")\n",
        "else:\n",
        "  if n1 >=4 and n2 >=4:\n",
        "    print(\"Prova final\")\n",
        "  else:\n",
        "    print(\"Reprovado\")"
      ],
      "metadata": {
        "colab": {
          "base_uri": "https://localhost:8080/"
        },
        "id": "djNC1wvhcxd4",
        "outputId": "e1a49a09-add0-438e-ca41-98e37ed5b6ee"
      },
      "execution_count": null,
      "outputs": [
        {
          "output_type": "stream",
          "name": "stdout",
          "text": [
            "calculadora de média ponderada do IFRN\n",
            "digite a nota 1 (com peso 2)): 7.0\n",
            "digite a nota 2 (com peso 3): 6.0\n",
            "A média ponderada das notas é:  6.40\n",
            "Aprovado\n"
          ]
        }
      ]
    }
  ]
}